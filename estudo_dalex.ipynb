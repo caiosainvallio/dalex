{
  "cells": [
    {
      "cell_type": "raw",
      "metadata": {},
      "source": [
        "---\n",
        "title: Model interpretation study\n",
        "subtitle: Using DALEX library\n",
        "author:\n",
        "  - name: Caio Sain Vallio\n",
        "    url: 'https://www.linkedin.com/in/caiosainvallio/'\n",
        "    affiliations:\n",
        "      - name: zetta.health\n",
        "        url: 'https://zetta.health/'\n",
        "format:\n",
        "  html:\n",
        "    self-contained: true\n",
        "    code-fold: true\n",
        "    code-tools: true\n",
        "    code-line-numbers: true\n",
        "    df-print: paged\n",
        "    toc: true\n",
        "    toc-depth: 2\n",
        "execute:\n",
        "  warning: false\n",
        "---"
      ],
      "id": "56148a9c"
    },
    {
      "cell_type": "markdown",
      "metadata": {},
      "source": [
        "# Create models\n"
      ],
      "id": "d1baae30"
    },
    {
      "cell_type": "code",
      "metadata": {},
      "source": [
        "import dalex as dx\n",
        "titanic = dx.datasets.load_titanic()\n",
        "X = titanic.drop(columns='survived')\n",
        "y = titanic.survived"
      ],
      "id": "cde0f23b",
      "execution_count": null,
      "outputs": []
    },
    {
      "cell_type": "code",
      "metadata": {},
      "source": [
        "from sklearn.preprocessing import StandardScaler, OneHotEncoder\n",
        "from sklearn.compose import make_column_transformer\n",
        "from sklearn.pipeline import make_pipeline\n",
        "\n",
        "preprocess = make_column_transformer(\n",
        "    (StandardScaler(), ['age', 'fare', 'parch', 'sibsp']),\n",
        "    (OneHotEncoder(), ['gender', 'class', 'embarked']))"
      ],
      "id": "581a306c",
      "execution_count": null,
      "outputs": []
    },
    {
      "cell_type": "markdown",
      "metadata": {},
      "source": [
        "## Logistic regression model\n"
      ],
      "id": "2c4dc621"
    },
    {
      "cell_type": "code",
      "metadata": {},
      "source": [
        "from sklearn.linear_model import LogisticRegression\n",
        "\n",
        "titanic_lr = make_pipeline(\n",
        "    preprocess,\n",
        "    LogisticRegression(penalty = 'l2'))\n",
        "titanic_lr.fit(X, y)"
      ],
      "id": "abec8139",
      "execution_count": null,
      "outputs": []
    },
    {
      "cell_type": "markdown",
      "metadata": {},
      "source": [
        "## Logistic regression model\n"
      ],
      "id": "01578c41"
    },
    {
      "cell_type": "code",
      "metadata": {},
      "source": [
        "from sklearn.ensemble import RandomForestClassifier\n",
        "\n",
        "titanic_rf = make_pipeline(\n",
        "    preprocess,\n",
        "    RandomForestClassifier(max_depth = 3, n_estimators = 500))\n",
        "titanic_rf.fit(X, y)"
      ],
      "id": "e9fbfb73",
      "execution_count": null,
      "outputs": []
    },
    {
      "cell_type": "markdown",
      "metadata": {},
      "source": [
        "## Gradient boosting model\n"
      ],
      "id": "889ae624"
    },
    {
      "cell_type": "code",
      "metadata": {},
      "source": [
        "from sklearn.ensemble import GradientBoostingClassifier\n",
        "\n",
        "titanic_gbc = make_pipeline(\n",
        "    preprocess,\n",
        "    GradientBoostingClassifier(n_estimators = 100))\n",
        "titanic_gbc.fit(X, y)"
      ],
      "id": "c1ac6284",
      "execution_count": null,
      "outputs": []
    },
    {
      "cell_type": "markdown",
      "metadata": {},
      "source": [
        "## Support vector machine model\n"
      ],
      "id": "0bf762a8"
    },
    {
      "cell_type": "code",
      "metadata": {},
      "source": [
        "from sklearn.svm import SVC\n",
        "\n",
        "titanic_svm = make_pipeline(\n",
        "    preprocess,\n",
        "    SVC(probability = True))\n",
        "titanic_svm.fit(X, y)"
      ],
      "id": "18d3ce52",
      "execution_count": null,
      "outputs": []
    },
    {
      "cell_type": "markdown",
      "metadata": {},
      "source": [
        "# Models' predictions\n"
      ],
      "id": "403a581e"
    },
    {
      "cell_type": "code",
      "metadata": {},
      "source": [
        "import pandas as pd\n",
        "\n",
        "johnny_d = pd.DataFrame({'gender': ['male'],\n",
        "                       'age'     : [8],\n",
        "                       'class'   : ['1st'],\n",
        "                       'embarked': ['Southampton'],\n",
        "                       'fare'    : [72],\n",
        "                       'sibsp'   : [0],\n",
        "                       'parch'   : [0]},\n",
        "                      index = ['JohnnyD'])\n",
        "\n",
        "henry = pd.DataFrame({'gender'   : ['male'],\n",
        "                       'age'     : [47],\n",
        "                       'class'   : ['1st'],\n",
        "                       'embarked': ['Cherbourg'],\n",
        "                       'fare'    : [25],\n",
        "                       'sibsp'   : [0],\n",
        "                       'parch'   : [0]},\n",
        "                      index = ['Henry'])"
      ],
      "id": "7bc72da7",
      "execution_count": null,
      "outputs": []
    },
    {
      "cell_type": "markdown",
      "metadata": {},
      "source": [
        "# Instance Level\n",
        "\n",
        "## Break-down plots for additive attibutions\n",
        "\n",
        "This concept answer the question: *which variables contribute to this result the most?* \n"
      ],
      "id": "632bcc75"
    },
    {
      "cell_type": "code",
      "metadata": {},
      "source": [
        "import dalex as dx\n",
        "titanic_rf_exp = dx.Explainer(titanic_rf, X, y, \n",
        "                  label = \"Titanic RF Pipeline\")"
      ],
      "id": "31b3b32c",
      "execution_count": null,
      "outputs": []
    },
    {
      "cell_type": "code",
      "metadata": {},
      "source": [
        "bd_henry = titanic_rf_exp.predict_parts(henry, \n",
        "             type = 'break_down')\n",
        "bd_henry.result"
      ],
      "id": "78c29551",
      "execution_count": null,
      "outputs": []
    },
    {
      "cell_type": "code",
      "metadata": {},
      "source": [
        "bd_henry.plot()"
      ],
      "id": "4c7e715a",
      "execution_count": null,
      "outputs": []
    },
    {
      "cell_type": "code",
      "metadata": {},
      "source": [
        "import numpy as np\n",
        "\n",
        "bd_henry = titanic_rf_exp.predict_parts(henry,\n",
        "        type = 'break_down',\n",
        "        order = np.array(['gender', 'class', 'age',\n",
        "            'embarked', 'fare', 'sibsp', 'parch']))\n",
        "bd_henry.plot(max_vars = 5)"
      ],
      "id": "48e4ca43",
      "execution_count": null,
      "outputs": []
    },
    {
      "cell_type": "markdown",
      "metadata": {},
      "source": [
        "## Break-down plots for additive interactions\n",
        "\n",
        "Interaction (deviation from additivity) means that the effect of an explanatory variable depends on the value(s) of other variable(s).\n"
      ],
      "id": "1fc8e8f4"
    },
    {
      "cell_type": "code",
      "metadata": {},
      "source": [
        "ibd_henry = titanic_rf_exp.predict_parts(henry, \n",
        "                type = 'break_down_interactions', \n",
        "                interaction_preference = 10)\n",
        "ibd_henry.result"
      ],
      "id": "71ef90ad",
      "execution_count": null,
      "outputs": []
    },
    {
      "cell_type": "code",
      "metadata": {},
      "source": [
        "ibd_henry.plot()"
      ],
      "id": "ac59378b",
      "execution_count": null,
      "outputs": []
    },
    {
      "cell_type": "markdown",
      "metadata": {},
      "source": [
        "## Shapley Additice Explanations (SHAP) for average attributions\n",
        "\n",
        "\n",
        "\n",
        "\n",
        "\n",
        "\n",
        "\n",
        "\n",
        "\n",
        "\n",
        "\n",
        "\n",
        "\n",
        "\n",
        "\n",
        "\n",
        "\n",
        "\n",
        "\n",
        "\n",
        "# Dataset Level\n"
      ],
      "id": "1684c604"
    }
  ],
  "metadata": {
    "kernelspec": {
      "name": "conda-env-dalex-py",
      "language": "python",
      "display_name": "Python [conda env:dalex] *"
    }
  },
  "nbformat": 4,
  "nbformat_minor": 5
}