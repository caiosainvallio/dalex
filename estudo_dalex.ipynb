{
  "cells": [
    {
      "cell_type": "raw",
      "metadata": {},
      "source": [
        "---\n",
        "title: Model interpretation study\n",
        "subtitle: Using DALEX library\n",
        "author:\n",
        "  - name: Caio Sain Vallio\n",
        "    url: 'https://www.linkedin.com/in/caiosainvallio/'\n",
        "    affiliations:\n",
        "      - name: zetta.health\n",
        "        url: 'https://zetta.health/'\n",
        "format:\n",
        "  html:\n",
        "    self-contained: true\n",
        "    code-fold: true\n",
        "    code-tools: true\n",
        "    code-line-numbers: true\n",
        "    df-print: paged\n",
        "    toc: true\n",
        "    toc-depth: 2\n",
        "execute:\n",
        "  warning: false\n",
        "---"
      ],
      "id": "c9c3ef4c"
    },
    {
      "cell_type": "markdown",
      "metadata": {},
      "source": [
        "# Create models\n"
      ],
      "id": "62fb7326"
    },
    {
      "cell_type": "code",
      "metadata": {},
      "source": [
        "import dalex as dx\n",
        "titanic = dx.datasets.load_titanic()\n",
        "X = titanic.drop(columns='survived')\n",
        "y = titanic.survived"
      ],
      "id": "4676391b",
      "execution_count": null,
      "outputs": []
    },
    {
      "cell_type": "code",
      "metadata": {},
      "source": [
        "from sklearn.preprocessing import StandardScaler, OneHotEncoder\n",
        "from sklearn.compose import make_column_transformer\n",
        "from sklearn.pipeline import make_pipeline\n",
        "\n",
        "preprocess = make_column_transformer(\n",
        "    (StandardScaler(), ['age', 'fare', 'parch', 'sibsp']),\n",
        "    (OneHotEncoder(), ['gender', 'class', 'embarked']))"
      ],
      "id": "5e5c6397",
      "execution_count": null,
      "outputs": []
    },
    {
      "cell_type": "markdown",
      "metadata": {},
      "source": [
        "## Logistic regression model\n"
      ],
      "id": "c3efea7c"
    },
    {
      "cell_type": "code",
      "metadata": {},
      "source": [
        "from sklearn.linear_model import LogisticRegression\n",
        "\n",
        "titanic_lr = make_pipeline(\n",
        "    preprocess,\n",
        "    LogisticRegression(penalty = 'l2'))\n",
        "titanic_lr.fit(X, y)"
      ],
      "id": "da5b1bb0",
      "execution_count": null,
      "outputs": []
    },
    {
      "cell_type": "markdown",
      "metadata": {},
      "source": [
        "## Logistic regression model\n"
      ],
      "id": "a320bf24"
    },
    {
      "cell_type": "code",
      "metadata": {},
      "source": [
        "from sklearn.ensemble import RandomForestClassifier\n",
        "\n",
        "titanic_rf = make_pipeline(\n",
        "    preprocess,\n",
        "    RandomForestClassifier(max_depth = 3, n_estimators = 500))\n",
        "titanic_rf.fit(X, y)"
      ],
      "id": "02b36d5a",
      "execution_count": null,
      "outputs": []
    },
    {
      "cell_type": "markdown",
      "metadata": {},
      "source": [
        "## Gradient boosting model\n"
      ],
      "id": "a94be69b"
    },
    {
      "cell_type": "code",
      "metadata": {},
      "source": [
        "from sklearn.ensemble import GradientBoostingClassifier\n",
        "\n",
        "titanic_gbc = make_pipeline(\n",
        "    preprocess,\n",
        "    GradientBoostingClassifier(n_estimators = 100))\n",
        "titanic_gbc.fit(X, y)"
      ],
      "id": "14366601",
      "execution_count": null,
      "outputs": []
    },
    {
      "cell_type": "markdown",
      "metadata": {},
      "source": [
        "## Support vector machine model\n"
      ],
      "id": "dcbfcd12"
    },
    {
      "cell_type": "code",
      "metadata": {},
      "source": [
        "from sklearn.svm import SVC\n",
        "\n",
        "titanic_svm = make_pipeline(\n",
        "    preprocess,\n",
        "    SVC(probability = True))\n",
        "titanic_svm.fit(X, y)"
      ],
      "id": "9b29af7c",
      "execution_count": null,
      "outputs": []
    },
    {
      "cell_type": "markdown",
      "metadata": {},
      "source": [
        "# Models' predictions\n"
      ],
      "id": "387170b0"
    },
    {
      "cell_type": "code",
      "metadata": {},
      "source": [
        "import pandas as pd\n",
        "\n",
        "johnny_d = pd.DataFrame({'gender': ['male'],\n",
        "                       'age'     : [8],\n",
        "                       'class'   : ['1st'],\n",
        "                       'embarked': ['Southampton'],\n",
        "                       'fare'    : [72],\n",
        "                       'sibsp'   : [0],\n",
        "                       'parch'   : [0]},\n",
        "                      index = ['JohnnyD'])\n",
        "\n",
        "henry = pd.DataFrame({'gender'   : ['male'],\n",
        "                       'age'     : [47],\n",
        "                       'class'   : ['1st'],\n",
        "                       'embarked': ['Cherbourg'],\n",
        "                       'fare'    : [25],\n",
        "                       'sibsp'   : [0],\n",
        "                       'parch'   : [0]},\n",
        "                      index = ['Henry'])"
      ],
      "id": "bb8f4c9f",
      "execution_count": null,
      "outputs": []
    },
    {
      "cell_type": "markdown",
      "metadata": {},
      "source": [
        "# Instance Level\n",
        "\n",
        "## Break-down plots for additive attibutions\n",
        "\n",
        "This concept answer the question: *which variables contribute to this result the most?* \n"
      ],
      "id": "391331db"
    },
    {
      "cell_type": "code",
      "metadata": {},
      "source": [
        "import dalex as dx\n",
        "titanic_rf_exp = dx.Explainer(titanic_rf, X, y, \n",
        "                  label = \"Titanic RF Pipeline\")"
      ],
      "id": "bf9c7046",
      "execution_count": null,
      "outputs": []
    },
    {
      "cell_type": "code",
      "metadata": {},
      "source": [
        "bd_henry = titanic_rf_exp.predict_parts(henry, \n",
        "             type = 'break_down')\n",
        "bd_henry.result"
      ],
      "id": "bc4627db",
      "execution_count": null,
      "outputs": []
    },
    {
      "cell_type": "code",
      "metadata": {},
      "source": [
        "bd_henry.plot()"
      ],
      "id": "f27d575d",
      "execution_count": null,
      "outputs": []
    },
    {
      "cell_type": "code",
      "metadata": {},
      "source": [
        "import numpy as np\n",
        "\n",
        "bd_henry = titanic_rf_exp.predict_parts(henry,\n",
        "        type = 'break_down',\n",
        "        order = np.array(['gender', 'class', 'age',\n",
        "            'embarked', 'fare', 'sibsp', 'parch']))\n",
        "bd_henry.plot(max_vars = 5)"
      ],
      "id": "acf55ba3",
      "execution_count": null,
      "outputs": []
    },
    {
      "cell_type": "markdown",
      "metadata": {},
      "source": [
        "## Break-down plots for additive interactions\n",
        "\n",
        "Interaction (deviation from additivity) means that the effect of an explanatory variable depends on the value(s) of other variable(s).\n"
      ],
      "id": "8ea7e50a"
    },
    {
      "cell_type": "code",
      "metadata": {},
      "source": [
        "ibd_henry = titanic_rf_exp.predict_parts(henry, \n",
        "                type = 'break_down_interactions', \n",
        "                interaction_preference = 10)\n",
        "ibd_henry.result"
      ],
      "id": "e7f496a9",
      "execution_count": null,
      "outputs": []
    },
    {
      "cell_type": "code",
      "metadata": {},
      "source": [
        "ibd_henry.plot()"
      ],
      "id": "6e79f2d9",
      "execution_count": null,
      "outputs": []
    },
    {
      "cell_type": "markdown",
      "metadata": {},
      "source": [
        "## Shapley Additice Explanations (SHAP) for average attributions\n",
        "\n",
        "To remove the influence of the ordering of the variables.\n"
      ],
      "id": "0bdab6a7"
    },
    {
      "cell_type": "code",
      "metadata": {},
      "source": [
        "bd_henry = titanic_rf_exp.predict_parts(henry, type = 'shap')\n",
        "bd_henry.result"
      ],
      "id": "a3b5f2f0",
      "execution_count": null,
      "outputs": []
    },
    {
      "cell_type": "code",
      "metadata": {},
      "source": [
        "bd_henry.plot()"
      ],
      "id": "66a04b8b",
      "execution_count": null,
      "outputs": []
    },
    {
      "cell_type": "markdown",
      "metadata": {},
      "source": [
        "## Local Interpretable Model-agnostic Explanations (LIME)\n",
        "Break-down (BD) plots and Shapley values, are most suitable for models with a small or moderate number of explanatory variables.\n",
        "The most popular example of such sparse explainers is the Local Interpretable Model-agnostic Explanations (LIME) method and its modifications.\n",
        "\n",
        "\n",
        "In the first step, we read the Titanic data and encode categorical variables. In this case, we use the simplest encoding for gender, class, and embarked, i.e., the label-encoding.\n"
      ],
      "id": "106d9347"
    },
    {
      "cell_type": "code",
      "metadata": {},
      "source": [
        "import dalex as dx\n",
        "\n",
        "titanic = dx.datasets.load_titanic()\n",
        "X = titanic.drop(columns='survived')\n",
        "y = titanic.survived\n",
        "\n",
        "from sklearn import preprocessing\n",
        "le = preprocessing.LabelEncoder()\n",
        "\n",
        "X['gender']   = le.fit_transform(X['gender'])\n",
        "X['class']    = le.fit_transform(X['class'])\n",
        "X['embarked'] = le.fit_transform(X['embarked'])"
      ],
      "id": "9b7801d1",
      "execution_count": null,
      "outputs": []
    },
    {
      "cell_type": "markdown",
      "metadata": {},
      "source": [
        "In the next step we train a random forest model.\n"
      ],
      "id": "20776baf"
    },
    {
      "cell_type": "code",
      "metadata": {},
      "source": [
        "from sklearn.ensemble import RandomForestClassifier as rfc\n",
        "titanic_fr = rfc()\n",
        "titanic_fr.fit(X, y)"
      ],
      "id": "46452957",
      "execution_count": null,
      "outputs": []
    },
    {
      "cell_type": "markdown",
      "metadata": {},
      "source": [
        "It is time to define the observation for which model prediction will be explained. We write Henry’s data into `pandas.Series` object.\n"
      ],
      "id": "69942c59"
    },
    {
      "cell_type": "code",
      "metadata": {},
      "source": [
        "import pandas as pd\n",
        "henry = pd.Series([1, 47.0, 0, 1, 25.0, 0, 0], \n",
        "                  index =['gender', 'age', 'class', 'embarked',\n",
        "                          'fare', 'sibsp', 'parch']) "
      ],
      "id": "9c0278a9",
      "execution_count": null,
      "outputs": []
    },
    {
      "cell_type": "markdown",
      "metadata": {},
      "source": [
        "The `lime` library explains models that operate on images, text, or tabular data. In the latter case, we have to use the `LimeTabularExplainer` module.\n"
      ],
      "id": "ff3a071d"
    },
    {
      "cell_type": "code",
      "metadata": {},
      "source": [
        "from lime.lime_tabular import LimeTabularExplainer \n",
        "explainer = LimeTabularExplainer(X, \n",
        "                      feature_names=X.columns, \n",
        "                      class_names=['died', 'survived'], \n",
        "                      discretize_continuous=False, \n",
        "                      verbose=True)"
      ],
      "id": "695a3969",
      "execution_count": null,
      "outputs": []
    },
    {
      "cell_type": "markdown",
      "metadata": {},
      "source": [
        "The result is an explainer that can be used to interpret a model around specific observations. In the following example, we explain the behaviour of the model for Henry. The `explain_instance()` method finds a local approximation with an interpretable linear model. The result can be presented graphically with the `show_in_notebook()` method.\n"
      ],
      "id": "eb0f5557"
    },
    {
      "cell_type": "code",
      "metadata": {},
      "source": [
        "lime = explainer.explain_instance(henry, titanic_fr.predict_proba)\n",
        "lime.show_in_notebook(show_table=True)"
      ],
      "id": "473315d1",
      "execution_count": null,
      "outputs": []
    },
    {
      "cell_type": "markdown",
      "metadata": {},
      "source": [
        "## Ceteris-paribus profiles\n",
        "\n",
        "*\"Ceteris paribus\"* is a Latin phrase meaning \"other things held constant\" or \"all else unchanged\".\n",
        "\n",
        "Ceteris-paribus (CP) profiles show how a model’s prediction would change if the value of a single exploratory variable changed. \n"
      ],
      "id": "474cb017"
    },
    {
      "cell_type": "code",
      "metadata": {},
      "source": [
        "import dalex as dx\n",
        "titanic = dx.datasets.load_titanic()\n",
        "X = titanic.drop(columns='survived')\n",
        "y = titanic.survived"
      ],
      "id": "a5c2661d",
      "execution_count": null,
      "outputs": []
    },
    {
      "cell_type": "code",
      "metadata": {},
      "source": [
        "from sklearn.ensemble import RandomForestClassifier\n",
        "\n",
        "titanic_rf = make_pipeline(\n",
        "    preprocess,\n",
        "    RandomForestClassifier(max_depth = 3, n_estimators = 500))\n",
        "titanic_rf.fit(X, y)"
      ],
      "id": "16dcaa99",
      "execution_count": null,
      "outputs": []
    },
    {
      "cell_type": "code",
      "metadata": {},
      "source": [
        "henry = pd.DataFrame({'gender'   : ['male'],\n",
        "                       'age'     : [47],\n",
        "                       'class'   : ['1st'],\n",
        "                       'embarked': ['Cherbourg'],\n",
        "                       'fare'    : [25],\n",
        "                       'sibsp'   : [0],\n",
        "                       'parch'   : [0]},\n",
        "                      index = ['Henry'])\n",
        "\n",
        "\n",
        "import dalex as dx\n",
        "titanic_rf_exp = dx.Explainer(titanic_rf, X, y, \n",
        "                  label = \"Titanic RF Pipeline\")"
      ],
      "id": "d3bd17e7",
      "execution_count": null,
      "outputs": []
    },
    {
      "cell_type": "code",
      "metadata": {},
      "source": [
        "cp_henry = titanic_rf_exp.predict_profile(henry)\n",
        "cp_henry.result"
      ],
      "id": "6f0d29d2",
      "execution_count": null,
      "outputs": []
    },
    {
      "cell_type": "code",
      "metadata": {},
      "source": [
        "cp_henry.plot(variables = ['age', 'fare'])"
      ],
      "id": "f72e4aee",
      "execution_count": null,
      "outputs": []
    },
    {
      "cell_type": "code",
      "metadata": {},
      "source": [
        "cp_henry.plot(variables = ['class', 'embarked'],\n",
        "               variable_type = 'categorical')"
      ],
      "id": "bd2624bc",
      "execution_count": null,
      "outputs": []
    },
    {
      "cell_type": "code",
      "metadata": {},
      "source": [
        "from sklearn.linear_model import LogisticRegression\n",
        "\n",
        "titanic_lr = make_pipeline(\n",
        "    preprocess,\n",
        "    LogisticRegression(penalty = 'l2'))\n",
        "titanic_lr.fit(X, y)"
      ],
      "id": "f9971db9",
      "execution_count": null,
      "outputs": []
    },
    {
      "cell_type": "code",
      "metadata": {},
      "source": [
        "import dalex as dx\n",
        "titanic_lr_exp = dx.Explainer(titanic_lr, X, y, \n",
        "                  label = \"Titanic RL Pipeline\")"
      ],
      "id": "113d2f8b",
      "execution_count": null,
      "outputs": []
    },
    {
      "cell_type": "code",
      "metadata": {},
      "source": [
        "cp_henry2 = titanic_lr_exp.predict_profile(henry)\n",
        "cp_henry.plot(cp_henry2, variables = ['age', 'fare'])"
      ],
      "id": "0c5b52e5",
      "execution_count": null,
      "outputs": []
    },
    {
      "cell_type": "markdown",
      "metadata": {},
      "source": [
        "## Ceteris-paribus oscillations\n",
        "\n",
        "\n",
        "\n",
        "\n",
        "\n",
        "# Dataset Level\n"
      ],
      "id": "97a3c6a0"
    }
  ],
  "metadata": {
    "kernelspec": {
      "name": "conda-env-dalex-py",
      "language": "python",
      "display_name": "Python [conda env:dalex] *"
    }
  },
  "nbformat": 4,
  "nbformat_minor": 5
}